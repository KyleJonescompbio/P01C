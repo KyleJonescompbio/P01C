{
  "cells": [
    {
      "cell_type": "markdown",
      "metadata": {
        "id": "view-in-github",
        "colab_type": "text"
      },
      "source": [
        "<a href=\"https://colab.research.google.com/github/KyleJonescompbio/P01C/blob/main/P01C.ipynb\" target=\"_parent\"><img src=\"https://colab.research.google.com/assets/colab-badge.svg\" alt=\"Open In Colab\"/></a>"
      ]
    },
    {
      "cell_type": "markdown",
      "metadata": {
        "id": "4UAeEkB14df2"
      },
      "source": [
        "<h1 style=\"margin-bottom: 0.4em; text-align: center;\">\n",
        "    <b>Project 1</b><br>\n",
        "    Assignment C\n",
        "</h1>\n",
        "<h2 style=\"margin-top: 0.0em; text-align: center;\">\n",
        "    Genome assembly\n",
        "</h2>\n",
        "\n",
        "<p style=\"text-align: center;\">\n",
        "    <object hspace=\"50\">\n",
        "        <strong>Due</strong></a>: Jan 31, 2025 by 11:59 p.m.\n",
        "    </object>\n",
        "    <object hspace=\"50\">\n",
        "        <strong>Points</strong></a>: 60\n",
        "    </object>\n",
        "</p>\n",
        "\n",
        "Always ensure you are working within in same \"BIOSC 1540 Project\" that you used for [P01B](https://pitt-biosc1540-2025s.oasci.org/lectures/04A/).\n",
        "If you encounter any issues with Galaxy, check their [support](https://galaxyproject.org/support/) and [training](https://training.galaxyproject.org/).\n",
        "\n",
        "Please set the `STUDENT_ID` variable in the cell below to your student ID number."
      ]
    },
    {
      "cell_type": "code",
      "execution_count": 1,
      "metadata": {
        "id": "RFcjhoNw4df3"
      },
      "outputs": [],
      "source": [
        "STUDENT_ID = 4584166"
      ]
    },
    {
      "cell_type": "markdown",
      "metadata": {
        "id": "gG031Jas4df3"
      },
      "source": [
        "## Q01\n",
        "\n",
        "First, we are going to download the reference genome for [*Staphylococcus aureus* MRSA252](https://www.ncbi.nlm.nih.gov/nuccore/?from_uid=32628&linkname=assembly_nuccore_refseq).\n",
        "\n",
        "1.  In the Galaxy interface, search for \"NCBI Datasets Genomes\" in the tools panel.\n",
        "2.  Click on \"NCBI Datasets Genomes download genome sequence, annotation and metadata\".\n",
        "3.  In the tool interface, set the following parameters:\n",
        "    -   \"Enter comma separated list of accessions\": enter `GCF_000011505.1`\n",
        "4.  Click \"Run Tool\".\n",
        "\n",
        "### A\n",
        "\n",
        "In the assembly information page linked above (or click [here](https://www.ncbi.nlm.nih.gov/nuccore/?from_uid=32628&linkname=assembly_nuccore_refseq)), please fill out the following three statistics."
      ]
    },
    {
      "cell_type": "code",
      "execution_count": null,
      "metadata": {
        "id": "fOJDgANZ4df3"
      },
      "outputs": [],
      "source": [
        "GENOME_LENGTH = 2902619\n",
        "N_GENES = 2,881\n",
        "N_CDS_WITH_PROTEIN = 2,685"
      ]
    },
    {
      "cell_type": "markdown",
      "metadata": {
        "id": "zavRfnE94df3"
      },
      "source": [
        "### B\n",
        "\n",
        "Using the [PGAP documentation](https://www.ncbi.nlm.nih.gov/refseq/annotation_prok/), what does \"CDSs (with protein)\" mean?\n",
        "\n",
        "---\n",
        "\n",
        "\"CDSs (with protein)\" refers to the total number of sequences that code for proteins."
      ]
    },
    {
      "cell_type": "markdown",
      "metadata": {
        "id": "nysWR3xE4df3"
      },
      "source": [
        "## Q02\n",
        "\n",
        "We will use [SPAdes](https://ablab.github.io/spades/), a versatile genome assembler designed for both small genomes and single-cell projects, to assemble our genome.\n",
        "Follow the instructions below for both your cleaned parental and evolved FASTQ files (after fastp).\n",
        "\n",
        "1.  In the Galaxy interface, search for \"SPAdes\" in the tools panel.\n",
        "2.  Click on \"SPAdes genome assembler for genomes of regular and single-cell projects\".\n",
        "3.  In the tool interface, set the following parameters:\n",
        "    -   \"Operation mode\": Select \"Assembly and error correction\"\n",
        "    -   \"Single-end or paired-end short-reads\": Choose \"Paired-end: list of dataset pairs\"\n",
        "    -   \"FASTA/FASTQ file(s)\": Select your paired-end output from the fastp calculation (from [P01B](https://pitt-biosc1540-2025s.oasci.org/lectures/04A/)).\n",
        "    -   Under \"Pipeline options\", check \"Isolate: highly recommended for high-coverage isolate and multi-cell data (--isolate)\" to be selected.\n",
        "4.  Click \"Run Tool\".\n",
        "\n",
        "Once this finishes, which could take from minutes to hours, we will use [quast](https://github.com/ablab/quast) to quantify the quality of our assembly.\n",
        "Follow the instructions below for both your parental and evolved SPAdes assemblies.\n",
        "\n",
        "1.  In the Galaxy interface, search for \"Quast\" in the tools panel.\n",
        "2.  Click on \"Quast GEnome assembly Quality\"\n",
        "3.  In the tool interface, set the following options:\n",
        "    -   \"Assembly mode?\" set to \"Individual assembly (1 contig file per sample)\"\n",
        "    -   \"Contigs/scaffolds file\" select your SPAdes Scaffolds.\n",
        "    -   \"Use a reference genome?\" should be \"Yes\"\n",
        "    -   For \"Reference genome\", click the \"Dataset icon\" (looks like a folder) and select \"NCBI Genome Dataset: genome fasta\".\n",
        "4.  Click \"Run Tool\".\n",
        "\n",
        "\n",
        "### A\n",
        "\n",
        "Please fill out the following variables from your quast HTML report."
      ]
    },
    {
      "cell_type": "code",
      "execution_count": null,
      "metadata": {
        "id": "_Etta6-H4df3"
      },
      "outputs": [],
      "source": [
        "PARENTAL_GENOME_FRACTION = 88.984\n",
        "PARENTAL_DUPLICATION_RATIO = 1.005\n",
        "PARENTAL_TOTAL_ALIGNED_LENGTH = 2544681\n",
        "PARENTAL_NUM_MISASSEMBLIES = 47\n",
        "\n",
        "PARENTAL_N_CONTIGS = 45\n",
        "PARENTAL_N50 = 130216\n",
        "PARENTAL_L50 = 8\n",
        "PARENTAL_GC_PERCENT = 32.78"
      ]
    },
    {
      "cell_type": "code",
      "execution_count": null,
      "metadata": {
        "id": "MIXPl-Bz4df4"
      },
      "outputs": [],
      "source": [
        "EVOLVED_GENOME_FRACTION = 89.158\n",
        "EVOLVED_DUPLICATION_RATIO = 1.007\n",
        "EVOLVED_TOTAL_ALIGNED_LENGTH = 2550076\n",
        "EVOLVED_NUM_MISASSEMBLIES = 50\n",
        "\n",
        "EVOLVED_N_CONTIGS = 23\n",
        "EVOLVED_N50 = 304277\n",
        "EVOLVED_L50 = 4\n",
        "EVOLVED_GC_PERCENT = 32.79"
      ]
    },
    {
      "cell_type": "markdown",
      "metadata": {
        "id": "8rI5E3tB4df4"
      },
      "source": [
        "### B\n",
        "\n",
        "Using the assembly statistics provided for the parental and evolved genomes, determine which assembly (if any) is more reliable.\n",
        "Your answer should compare quantifiable metrics such as N50, L50, total assembly length, number of contigs, and any other relevant quality indicators.\n",
        "Be sure to explain your reasoning and how these metrics support your conclusion.\n",
        "\n",
        "---\n",
        "The evolved genome is more reliable that the parental genome. This is because the evolved genome has a higher N50 value, indicating that the shortest contig which makes up 50% of the assembled genome is longer than that of the parental genome and therefore there are fewer contigous assemblies. The L50 of the evolved strain is lower, indicating that there are fewer contigs which comprise 50% of the assembled genome. This again shows that there are fewer, larger contigs which allow for greater genome assembly quality. To further solidify the evolved strain being more reliable, the number of contigs of the evolved strain is also less than the number of contigs in the parental strain, indicating a greater assembly quality.\n",
        "  "
      ]
    },
    {
      "cell_type": "markdown",
      "metadata": {
        "id": "Od0z_jQh4df4"
      },
      "source": [
        "### C\n",
        "\n",
        "Compare the genome fraction between the reference genome and the parental assembly.\n",
        "Use this comparison to interpret the quality and completeness of your parental assembly.\n",
        "Discuss what the genome fraction indicates about how well the assembly represents the reference genome, including potential gaps, missing regions, or errors.\n",
        "\n",
        "---\n",
        "The parental genome fraction is 88.984%, denoting that there is 88.984% (or 2582866.491 bp) of the reference genome aligned with the parental genome's contigs. This high percentage shows that only 11.016% of the parental genome is has missing regions, gaps, or errors, which I would think is shows a high quality assembly.\n"
      ]
    },
    {
      "cell_type": "markdown",
      "metadata": {
        "id": "IGkMY0tU4df4"
      },
      "source": [
        "## Q03\n",
        "\n",
        "Using the reads provided in the FASTA file, perform a manual greedy assembly.\n",
        "\n",
        "```text\n",
        ">read_1\n",
        "TGTACGTA\n",
        ">read_2\n",
        "TACATTAA\n",
        ">read_3\n",
        "TAAGCGAG\n",
        ">read_4\n",
        "GCCACTAG\n",
        ">read_5\n",
        "AGCGTT\n",
        ">read_6\n",
        "CATTAAGC\n",
        ">read_7\n",
        "ATTAAGCG\n",
        ">read_8\n",
        "ACGTACAT\n",
        ">read_9\n",
        "GTACGTAC\n",
        ">read_10\n",
        "ACGTACAT\n",
        "```\n",
        "\n",
        "Instructions for submission:\n",
        "\n",
        "1. Write your step-by-step work for the greedy assembly directly in the notebook below this prompt.\n",
        "2. Clearly show the overlaps you identify at each step, the reads you merge, and the resulting sequences after each merge.\n",
        "3. Provide the final assembled sequence(s) at the end of your explanation.\n",
        "\n",
        "**Example Format for Answer:**\n",
        "\n",
        "1. **Step 1:**\n",
        "   - Overlap between `read_1` and `read_9`: `TGTACGTA` overlaps with `GTACGTAC` (overlap = 7 bases).\n",
        "   - Merge: `TGTACGTAC`.\n",
        "   - Remaining reads: `[merged_read, read_2, read_3, ...]`.\n",
        "2. **Step 2:**\n",
        "   - Overlap between `merged_read` and `read_10`: `ACGTACAT` overlaps with `TACAT...` (overlap = 5 bases).\n",
        "   - Merge: `TGTACGTACAT`.\n",
        "   - Remaining reads: `[merged_read, read_2, read_3, ...]`.\n",
        "\n",
        "4. **Final Assembly:**\n",
        "   - Assembled sequence(s): `TGTACGTACAT...` (or list of contigs if not fully assembled).\n",
        "\n",
        "---"
      ]
    },
    {
      "cell_type": "markdown",
      "metadata": {
        "id": "gdeYt0QQ4df4"
      },
      "source": [
        "1. **Step 1:**\n",
        "   - Overlap between `read_8` and `read_10`: `ACGTACAT` overlaps with `ACGTACAT` (overlap = 8 bases).\n",
        "   - Merge: `ACGTACAT`.\n",
        "   - Remaining reads: `[merged_read, read_1, read_2, read_3, read_4, read_5, read_6, Read_7, read_9]`.\n",
        "2. **Step 2:**\n",
        "   - Overlap between `merged_read` and `read_9`: `ACGTACAT` overlaps with `GTACGTAC` (overlap = 6 bases).\n",
        "   - Merge: `GTACGTACAT`.\n",
        "   - Remaining reads: `[merged_read, read_1, read_2, read_3, read_4, read_5, read_6, read_7]`.\n",
        "3.**Step 3:**\n",
        "   - Overlap between `merged_read` and `read_1`: `GTACGTACAT` overlaps with `TGTACGTTA` (overlap = 7 bases).\n",
        "   - Merge: `TGTACGTACAT`.\n",
        "   - Remaining reads: `[merged_read,read_2, read_3, read_4, read_5, read_6, read_7]`\n",
        "4. **Step 4:**\n",
        "   - Overlap between `merged_read` and `read_2`: `TGTACGTACAT` overlaps with `TACATTAA` (overlap = 5 bases).\n",
        "   - Merge: `TGTACGTACATTAA`.\n",
        "   - Remaining reads: `[merged_read, read_3, read_4, read_5, read_6, read_7]`\n",
        "5.**Step 5:**\n",
        "   - Overlap between `merged_read` and `read_6`: `TGTACGTACATTAA` overlaps with `CATTAAGC` (overlap = 6 bases).\n",
        "   - Merge: `TGTACGTACATTAAGC`.\n",
        "   - Remaining reads: `[merged_read, read_3, read_4, read_5, read_7]`\n",
        "6.**Step 6:**\n",
        "   - Overlap between `merged_read` and `read_7`: `TGTACGTACATTAAGC` overlaps with `ATTAAGCG` (overlap = 7 bases).\n",
        "   - Merge: `TGTACGTACATTAAGCG`.\n",
        "   - Remaining reads: `[merged_read, read_3, read_4, read_5]`\n",
        "7.**Step 7:**\n",
        "   - Overlap between `merged_read` and `read_3`: `TGTACGTACATTAAGCG` overlaps with `TAAGCGAG` (overlap = 6 bases).\n",
        "   - Merge: `TGTACGTACATTAAGCGAG`.\n",
        "   - Remaining reads: `[merged_read, read_4, read_5]`\n",
        "8.**Step 8:**\n",
        "   - Overlap between `merged_read` and `read_5`: `TGTACGTACATTAAGCGAG` overlaps with `AGCGTT` (overlap = 2 bases).\n",
        "   - Merge: `TGTACGTACATTAAGCGAGCGTT`.\n",
        "   - Remaining reads: `[merged_read, read_4]`\n",
        "\n",
        "4. **Final Assembly:**\n",
        "   - Assembled sequence(s): `TGTACGTACATTAAGCGAGCGTT` and `GCCACTAG` Put your steps here."
      ]
    },
    {
      "cell_type": "markdown",
      "metadata": {
        "id": "gxs2T3vp4df4"
      },
      "source": [
        "### B\n",
        "\n",
        "Using the reads provided in the above FASTA file, construct a De Bruijn graph to model the relationships between overlapping sequences.\n",
        "A De Bruijn graph is a powerful tool in genome assembly, where $(k-1)$-mers form the nodes, and $k$-mers define the directed edges connecting the nodes.\n",
        "\n",
        "[Mermaid.js](https://mermaid.live/) uses a simple, markdown-like syntax within code blocks to create diagrams, making it accessible and easy to integrate into documentation.\n",
        "For constructing flowcharts, such as De Bruijn graphs, you begin by specifying the diagram type with `flowchart` followed by a directional keyword like `LR` (left-to-right) or `TB` (top-to-bottom).\n",
        "Nodes are defined using unique identifiers and can be styled with double parentheses for circular nodes, e.g., `ATC((ATC))`.\n",
        "Directed edges between nodes are represented with arrows (`-->`), indicating the flow from one node to another, such as `ATC --> TCG`.\n",
        "This syntax allows you to visually map relationships by connecting nodes based on their interactions, which is particularly useful for illustrating the overlapping $(k-1)$-mers and $k$-mers in a De Bruijn graph.\n",
        "Additionally, [Mermaid.js](https://mermaid.live/) supports comments using `%%` for clarity and can be customized with styles to enhance the readability and aesthetics of your graph.\n",
        "\n",
        "Here’s a brief example of [Mermaid.js](https://mermaid.live/) syntax for a De Bruijn graph:\n",
        "\n",
        "```mermaid\n",
        "flowchart LR\n",
        "    %% Define Nodes\n",
        "    ATC((ATC))\n",
        "    TCG((TCG))\n",
        "    CGT((CGT))\n",
        "    \n",
        "    %% Define Edges\n",
        "    ATC --> TCG\n",
        "    TCG --> CGT\n",
        "    CGT --> ATC\n",
        "```\n",
        "\n",
        "In this example, `flowchart LR` sets the layout direction, nodes like `ATC`, `TCG`, and `CGT` are created with circular styling, and the arrows (`-->`) establish the directed connections between them."
      ]
    },
    {
      "cell_type": "code",
      "source": [
        "flowchart LR\n",
        "    %%Define Nodes\n",
        "    TGT((TGT))\n",
        "    GTA((GTA))\n",
        "    TAC((TAC))\n",
        "    ACG((ACG))\n",
        "    CGT((CGT))\n",
        "    ACA((ACA))\n",
        "    CAT((CAT))\n",
        "    ATT((ATT))\n",
        "    TTA((TTA))\n",
        "    TAA((TAA))\n",
        "    AAG((AGG))\n",
        "    AGC((AGC))\n",
        "    GCG((GCG))\n",
        "    CGA((CGA))\n",
        "    GAG((GAG))\n",
        "    GCC((GCC))\n",
        "    CCA((CCA))\n",
        "    CAC((CAC))\n",
        "    ACT((ACT))\n",
        "    CTA((CTA))\n",
        "    TAG((TAG))\n",
        "    GTT((GTT))\n",
        "    TAA((TAA))\n",
        "\n",
        "    %%Define Edges\n",
        "    %%Read 1\n",
        "    TGT --> GTA\n",
        "    GTA --> TAC\n",
        "    TAC --> ACG\n",
        "    ACG --> CGT\n",
        "    CGT --> GTA\n",
        "    %%Read 2\n",
        "    TAC --> ACA\n",
        "    ACA --> CAT\n",
        "    CAT --> ATT\n",
        "    ATT --> TTA\n",
        "    TTA --> TAA\n",
        "    %%Read3\n",
        "    TAA --> AAG\n",
        "    AAG --> AGC\n",
        "    AGC --> GCG\n",
        "    GCG -->CGA\n",
        "    CGA -->GAG\n",
        "    %%Read4\n",
        "    GCC --> CCA\n",
        "    CCA --> CAC\n",
        "    CAC --> ACT\n",
        "    ACT --> CTA\n",
        "    CTA --> TAG\n",
        "    %%Read5\n",
        "    AGC --> GCG\n",
        "    GCG --> CGT\n",
        "    CGT --> GTT\n",
        "    %%Read6\n",
        "    CAT --> ATT\n",
        "    ATT --> TTA\n",
        "    TTA --> TAA\n",
        "    TAA --> AAG\n",
        "    AAG --> AGC\n",
        "    %%Read7\n",
        "    ATT --> TTA\n",
        "    TTA --> TAA\n",
        "    TAA --> AAG\n",
        "    AAG --> AGC\n",
        "    AGC --> GCG\n",
        "    %%Read8\n",
        "    ACG --> CGT\n",
        "    CGT --> GTA\n",
        "    GTA --> TAC\n",
        "    TAC --> ACA\n",
        "    ACA --> CAT\n",
        "    %%Read9\n",
        "    GTA --> TAC\n",
        "    TAC --> ACG\n",
        "    ACG --> CGT\n",
        "    CGT --> GTA\n",
        "    GTA --> TAC\n",
        "    %%Read10\n",
        "    ACG --> CGT\n",
        "    CGT --> GTA\n",
        "    GTA --> TAC\n",
        "    TAC --> ACA\n",
        "    ACA --> CAT\n",
        "\n"
      ],
      "metadata": {
        "id": "2GHC2qLEUlhb"
      },
      "execution_count": null,
      "outputs": []
    },
    {
      "cell_type": "markdown",
      "metadata": {
        "id": "K0CW1rQB4df4"
      },
      "source": [
        "## Q04\n",
        "\n",
        "K-mers are substrings of length $k$ extracted from DNA sequences, often overlapping by one base.\n",
        "For example, the 4-mers in the sequence `\"ATCGTAC\"` are `\"ATCG\"`, `\"TCGT\"`, `\"CGTA\"`, and `\"GTAC\"`.\n",
        "By calculating the frequency of each k-mer across all the reads, we can identify repetitive patterns and unique sequences.\n",
        "\n",
        "### A\n",
        "\n",
        "Your first task is to write a function, `kmer_frequency`, that will:\n",
        "\n",
        "- Take a single argument of a list of DNA sequences and a specified k-mer size $k$ as input.\n",
        "- Return a single dictionary where the keys are unique k-mers and the values are the number of times each k-mer appears across all reads.\n",
        "\n",
        "Imagine you’re working with the following DNA reads:  \n",
        "`[\"ATCGTACGTA\", \"GCGTACGTAA\", \"TACGTAGCGA\"]`  \n",
        "and you’re analyzing 4-mers ($k=4$) for a genome estimated to be 50 bases long.\n",
        "\n",
        "Your function should identify and count all 4-mers across the reads. For example, `\"ATCG\"` appears once, while `\"CGTA\"` appears three times. The resulting dictionary might look like this:\n",
        "\n",
        "```python\n",
        "{\"ATCG\": 1, \"TCGT\": 1, \"CGTA\": 5, \"GTAC\": 2, \"TACG\": 3, \"ACGT\": 3, \"GCGT\": 1, \"GTAA\": 1, \"GTAG\": 1, \"TAGC\": 1, \"AGCG\": 1, \"GCGA\": 1}\n",
        "```"
      ]
    },
    {
      "cell_type": "code",
      "execution_count": null,
      "metadata": {
        "colab": {
          "base_uri": "https://localhost:8080/"
        },
        "id": "pdD-h-ll4df4",
        "outputId": "0b1c071b-2103-4525-e010-abf2f95a086d"
      },
      "outputs": [
        {
          "output_type": "stream",
          "name": "stdout",
          "text": [
            "{'ATCG': 1, 'TCGT': 1, 'CGTA': 5, 'GTAC': 2, 'TACG': 3, 'ACGT': 3, 'GCGT': 1, 'GTAA': 1, 'GTAG': 1, 'TAGC': 1, 'AGCG': 1, 'GCGA': 1}\n"
          ]
        }
      ],
      "source": [
        "def kmer_frequency(sequences, k):\n",
        "  four_mers = {}\n",
        "  for sequence in sequences:\n",
        "    for i in range(7):\n",
        "      four_mer = sequence[i:i + k]\n",
        "      if four_mer in four_mers:\n",
        "        four_mers[four_mer] +=1\n",
        "      else:\n",
        "        four_mers[four_mer] = 1\n",
        "  return four_mers\n",
        "\n",
        "sequences = (\"ATCGTACGTA\", \"GCGTACGTAA\", \"TACGTAGCGA\")\n",
        "k = 4\n",
        "\n",
        "print(kmer_frequency(sequences, 4))\n",
        "\n"
      ]
    },
    {
      "cell_type": "markdown",
      "metadata": {
        "id": "jjso3j4P4df4"
      },
      "source": [
        "### B\n",
        "\n",
        "Once you’ve calculated the k-mer frequencies, you’ll need to find the k-mer that appears most frequently.\n",
        "This step is crucial for identifying repetitive sequences, which may represent highly abundant genes or genomic regions prone to sequencing errors.\n",
        "If multiple k-mers have the same highest frequency, choose the lexicographically smallest one (alphabetical order).\n",
        "\n",
        "You’ll write a second function, `most_frequent_kmer`, that:\n",
        "\n",
        "- Takes the k-mer frequency dictionary as input.\n",
        "- Returns two outputs: the k-mer with the highest frequency and its count.\n",
        "\n",
        "From the above dictionary, `\"CGTA\"` is the most frequent k-mer, appearing 5 times.\n",
        "If there were a tie, you would choose the lexicographically smallest k-mer."
      ]
    },
    {
      "cell_type": "code",
      "execution_count": null,
      "metadata": {
        "colab": {
          "base_uri": "https://localhost:8080/"
        },
        "id": "QXodwr614df4",
        "outputId": "cef85710-8e84-42a6-8d21-525b7903cb12"
      },
      "outputs": [
        {
          "output_type": "stream",
          "name": "stdout",
          "text": [
            "{'ATCG': 1, 'TCGT': 1, 'CGTA': 5, 'GTAC': 2, 'TACG': 3, 'ACGT': 3, 'GCGT': 1, 'GTAA': 1, 'GTAG': 1, 'TAGC': 1, 'AGCG': 1, 'GCGA': 1}\n",
            "CGTA\n"
          ]
        }
      ],
      "source": [
        "def kmers_frequency(sequences, k):\n",
        "  four_mers = {}\n",
        "  for sequence in sequences:\n",
        "    for i in range(7):\n",
        "      four_mer = sequence [i:i +k]\n",
        "      if four_mer in four_mers:\n",
        "        four_mers[four_mer] +=1\n",
        "      else:\n",
        "        four_mers[four_mer] = 1\n",
        "      return four_mers\n",
        "\n",
        "sequences = (\"ATCGTACGTA\", \"GCGTACGTAA\", \"TACGTAGCGA\")\n",
        "k = 4\n",
        "\n",
        "print(kmer_frequency(sequences, 4))\n",
        "\n",
        "def most_frequent_kmer (four_mers):\n",
        "  for four_mer in four_mers:\n",
        "    if four_mer == max(four_mers, key=four_mers.get):\n",
        "      return four_mer\n",
        "\n",
        "four_mers = kmer_frequency(sequences, k)\n",
        "\n",
        "print(most_frequent_kmer(four_mers))\n",
        "\n"
      ]
    }
  ],
  "metadata": {
    "kernelspec": {
      "display_name": "default",
      "language": "python",
      "name": "python3"
    },
    "language_info": {
      "codemirror_mode": {
        "name": "ipython",
        "version": 3
      },
      "file_extension": ".py",
      "mimetype": "text/x-python",
      "name": "python",
      "nbconvert_exporter": "python",
      "pygments_lexer": "ipython3",
      "version": "3.12.8"
    },
    "colab": {
      "provenance": [],
      "include_colab_link": true
    }
  },
  "nbformat": 4,
  "nbformat_minor": 0
}